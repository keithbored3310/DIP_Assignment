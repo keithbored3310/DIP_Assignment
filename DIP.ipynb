{
 "cells": [
  {
   "cell_type": "markdown",
   "id": "28bc16ab",
   "metadata": {},
   "source": [
    "# Data Setup"
   ]
  },
  {
   "cell_type": "code",
   "execution_count": null,
   "id": "4bd2530f",
   "metadata": {},
   "outputs": [],
   "source": [
    "# Import the necessary libraries\n",
    "import os\n",
    "import numpy as np\n",
    "from sklearn.model_selection import train_test_split\n",
    "import tensorflow as tf\n",
    "from tensorflow import keras\n",
    "from tensorflow.keras import layers\n",
    "from tensorflow.keras.applications import ResNet50"
   ]
  },
  {
   "cell_type": "code",
   "execution_count": null,
   "id": "72a0abf7",
   "metadata": {},
   "outputs": [],
   "source": [
    "# Set up the data generators for training and validation\n",
    "train_datagen = keras.preprocessing.image.ImageDataGenerator(\n",
    "    rescale = 1./255,\n",
    "    shear_range = 0.2,\n",
    "    zoom_range = 0.2,\n",
    "    horizontal_flip = True,\n",
    "    validation_split=0.2\n",
    ")\n",
    "\n",
    "test_datagen = keras.preprocessing.image.ImageDataGenerator(rescale=1./255)\n",
    "\n",
    "# Load the image data\n",
    "image_dir = './dtd-r1.0.1/dtd/images/'\n",
    "class_names = os.listdir(image_dir)\n",
    "\n",
    "X = []\n",
    "y = []\n",
    "\n",
    "for i, class_name in enumerate(class_names):\n",
    "    class_dir = os.path.join(image_dir, class_name)\n",
    "    for image_path in os.listdir(class_dir):\n",
    "        image = keras.preprocessing.image.load_img(os.path.join(class_dir, image_path), target_size=(224, 224))\n",
    "        image_array = keras.preprocessing.image.img_to_array(image)\n",
    "        X.append(image_array)\n",
    "        y.append(i)"
   ]
  },
  {
   "cell_type": "markdown",
   "id": "bfec2962",
   "metadata": {},
   "source": [
    "# Data Pre-processing "
   ]
  },
  {
   "cell_type": "code",
   "execution_count": null,
   "id": "f401884f",
   "metadata": {},
   "outputs": [],
   "source": [
    "# Convert the lists to numpy arrays\n",
    "X = np.array(X)\n",
    "y = np.array(y)"
   ]
  },
  {
   "cell_type": "code",
   "execution_count": null,
   "id": "33a3ed4a",
   "metadata": {},
   "outputs": [],
   "source": [
    "# Count the total number of images \n",
    "total_images = len(X)\n",
    "print(\"Total number of images:\", total_images)\n",
    "\n",
    "# Determine the image size and type\n",
    "image_size = X[0].shape\n",
    "image_type = type(X[1][0][0][0])\n",
    "print(\"Image size:\", image_size)\n",
    "print(\"Image type:\", image_type)"
   ]
  },
  {
   "cell_type": "code",
   "execution_count": null,
   "id": "38e35483",
   "metadata": {},
   "outputs": [],
   "source": [
    "# Check the shape of the data\n",
    "print(\"X shape:\", X.shape)\n",
    "print(\"y shape:\", y.shape)\n",
    "\n",
    "# Check the number of classes\n",
    "num_classes = len(class_names)\n",
    "print(\"Number of classes:\", num_classes)\n",
    "\n",
    "# Check the distribution of classes\n",
    "class_counts = np.bincount(y)\n",
    "print(\"Class counts:\", class_counts)\n",
    "\n",
    "# Check the class distribution as percentages\n",
    "class_percentages = class_counts / len(y) * 100\n",
    "print(\"Class percentages:\", class_percentages)"
   ]
  },
  {
   "cell_type": "code",
   "execution_count": null,
   "id": "ccd3b5b2",
   "metadata": {},
   "outputs": [],
   "source": [
    "# Split the data into training and testing sets\n",
    "X_train, X_test, y_train, y_test = train_test_split(X, y, test_size=0.2, random_state=42)"
   ]
  },
  {
   "cell_type": "code",
   "execution_count": null,
   "id": "d838383d",
   "metadata": {},
   "outputs": [],
   "source": [
    "# Reshape the input data to the desired shape\n",
    "X_train = X_train.reshape(X_train.shape[0], 224, 224, 3)\n",
    "X_test = X_test.reshape(X_test.shape[0], 224, 224, 3)"
   ]
  },
  {
   "cell_type": "code",
   "execution_count": null,
   "id": "475dbbdd",
   "metadata": {},
   "outputs": [],
   "source": [
    "# Perform one-hot encoding on the labels\n",
    "y_train = keras.utils.to_categorical(y_train, num_classes)\n",
    "y_test = keras.utils.to_categorical(y_test, num_classes)"
   ]
  },
  {
   "cell_type": "markdown",
   "id": "be2a51cf",
   "metadata": {},
   "source": [
    "# LeNet 5 Model"
   ]
  },
  {
   "cell_type": "code",
   "execution_count": null,
   "id": "6ac6e39f",
   "metadata": {},
   "outputs": [],
   "source": [
    "# Define the LeNet 5 model architecture\n",
    "model = keras.Sequential([\n",
    "    layers.Conv2D(6,kernel_size=(5,5),activation='relu',input_shape=(224,224,3)),\n",
    "    layers.MaxPooling2D(pool_size=(2,2)),\n",
    "    layers.Conv2D(16, kernel_size=(5,5), activation='relu'),\n",
    "    layers.MaxPooling2D(pool_size=(2,2)),\n",
    "    layers.Flatten(),\n",
    "    layers.Dense(120, activation='relu'),\n",
    "    layers.Dense(84, activation='relu'),\n",
    "    layers.Dense(10, activation='softmax')\n",
    "])\n",
    "\n",
    "# Compile the model\n",
    "model.compile(\n",
    "    optimizer='adam',\n",
    "    loss='categorical_crossentropy',\n",
    "    metrics=['accuracy']\n",
    ")\n",
    "\n",
    "# Train the model\n",
    "history = model.fit(\n",
    "    X_train, y_train,\n",
    "    epochs=20,\n",
    "    batch_size=128,\n",
    "    verbose=1,\n",
    "    validation_data=(X_test, y_test)\n",
    ")\n",
    "\n",
    "# Evaluate the model on the testing set\n",
    "score = model.evaluate(X_test, y_test, verbose=2)\n",
    "('Test Loss:', score[0])\n",
    "('Test accuracy:', score[1])"
   ]
  },
  {
   "cell_type": "markdown",
   "id": "7558d8e8",
   "metadata": {},
   "source": [
    "# CNN Model"
   ]
  },
  {
   "cell_type": "code",
   "execution_count": null,
   "id": "b4b89636",
   "metadata": {},
   "outputs": [],
   "source": [
    "# Define the CNN model architecture\n",
    "model = keras.Sequential([\n",
    "    layers.Conv2D(32, (3, 3), activation='relu', input_shape=(224, 224, 3)),\n",
    "    layers.MaxPooling2D((2, 2)),\n",
    "    layers.Conv2D(64, (3, 3), activation='relu'),\n",
    "    layers.MaxPooling2D((2, 2)),\n",
    "    layers.Conv2D(128, (3, 3), activation='relu'),\n",
    "    layers.MaxPooling2D((2, 2)),\n",
    "    layers.Flatten(),\n",
    "    layers.Dense(128, activation='relu'),\n",
    "    layers.Dense(num_classes, activation='softmax')\n",
    "])\n",
    "\n",
    "# Compile the model\n",
    "model.compile(\n",
    "    optimizer='adam',\n",
    "    loss='categorical_crossentropy',\n",
    "    metrics=['accuracy']\n",
    ")\n",
    "\n",
    "# Train the model\n",
    "history = model.fit(\n",
    "    X_train, y_train,\n",
    "    epochs=20,\n",
    "    batch_size=128,\n",
    "    verbose=1,\n",
    "    validation_data=(X_test, y_test)\n",
    ")\n",
    "\n",
    "# Evaluate the model on the testing set\n",
    "score = model.evaluate(X_test, y_test, verbose=2)\n",
    "('Test Loss:', score[0])\n",
    "('Test accuracy:', score[1])"
   ]
  },
  {
   "cell_type": "markdown",
   "id": "b2c59973",
   "metadata": {},
   "source": [
    "# VGG16 Model"
   ]
  },
  {
   "cell_type": "code",
   "execution_count": null,
   "id": "cb1d0232",
   "metadata": {},
   "outputs": [],
   "source": [
    "# Create a VGG16 model with pre-trained weights on ImageNet\n",
    "vgg16 = keras.applications.vgg16.VGG16(\n",
    "    include_top=True,\n",
    "    weights='imagenet',\n",
    "    input_shape=(224, 224, 3),\n",
    "    pooling=None,\n",
    "    classes=1000,\n",
    "    classifier_activation='softmax'\n",
    ")\n",
    "\n",
    "# Define the CNN model architecture with the VGG16 model as the base\n",
    "model = keras.Sequential([\n",
    "    vgg16,\n",
    "    layers.Flatten(),\n",
    "    layers.Dense(128, activation='relu'),\n",
    "    layers.Dense(num_classes, activation='softmax')\n",
    "])\n",
    "\n",
    "# Compile the model\n",
    "model.compile(\n",
    "    optimizer='adam',\n",
    "    loss='categorical_crossentropy',\n",
    "    metrics=['accuracy']\n",
    ")\n",
    "\n",
    "# Train the model\n",
    "history = model.fit(\n",
    "    X_train, y_train,\n",
    "    epochs=20,\n",
    "    batch_size=32,\n",
    "    verbose=1,\n",
    "    validation_data=(X_test, y_test)\n",
    ")\n",
    "\n",
    "# Evaluate the model on the testing set\n",
    "score = model.evaluate(X_test, y_test, verbose=2)\n",
    "('Test Loss:', score[0])\n",
    "('Test accuracy:', score[1])"
   ]
  },
  {
   "cell_type": "markdown",
   "id": "badf60ca",
   "metadata": {},
   "source": [
    "# ResNet50 Model"
   ]
  },
  {
   "cell_type": "code",
   "execution_count": null,
   "id": "3c06583e",
   "metadata": {},
   "outputs": [],
   "source": [
    "# Create a ResNet50 model with pre-trained weights on ImageNet\n",
    "resnet50 = ResNet50(\n",
    "    include_top=False,\n",
    "    weights='imagenet',\n",
    "    input_shape=(224, 224, 3),\n",
    "    pooling=None\n",
    ")\n",
    "\n",
    "# Define the CNN model architecture with ResNet50 backbone\n",
    "model = keras.Sequential([\n",
    "    resnet50,\n",
    "    layers.Flatten(),\n",
    "    layers.Dense(128, activation='relu'),\n",
    "    layers.Dense(num_classes, activation='softmax')\n",
    "])\n",
    "\n",
    "# Compile the model\n",
    "model.compile(\n",
    "    optimizer='adam',\n",
    "    loss='categorical_crossentropy',\n",
    "    metrics=['accuracy']\n",
    ")\n",
    "\n",
    "# Train the model\n",
    "history = model.fit(\n",
    "    X_train, y_train,\n",
    "    epochs=20,\n",
    "    batch_size=32,\n",
    "    verbose=1,\n",
    "    validation_data=(X_test, y_test)\n",
    ")\n",
    "\n",
    "# Evaluate the model on the testing set\n",
    "score = model.evaluate(X_test, y_test, verbose=2)\n",
    "('Test Loss:', score[0])\n",
    "('Test accuracy:', score[1])"
   ]
  }
 ],
 "metadata": {
  "kernelspec": {
   "display_name": "Python 3",
   "language": "python",
   "name": "python3"
  },
  "language_info": {
   "codemirror_mode": {
    "name": "ipython",
    "version": 3
   },
   "file_extension": ".py",
   "mimetype": "text/x-python",
   "name": "python",
   "nbconvert_exporter": "python",
   "pygments_lexer": "ipython3",
   "version": "3.8.8"
  }
 },
 "nbformat": 4,
 "nbformat_minor": 5
}
