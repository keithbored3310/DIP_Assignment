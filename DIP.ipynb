{
 "cells": [
  {
   "cell_type": "markdown",
   "id": "d603f5d5",
   "metadata": {},
   "source": [
    "# LeNet 5 Model Architecture"
   ]
  },
  {
   "cell_type": "code",
   "execution_count": 2,
   "id": "82acc26e",
   "metadata": {},
   "outputs": [
    {
     "name": "stdout",
     "output_type": "stream",
     "text": [
      "Epoch 1/20\n",
      "469/469 [==============================] - 7s 15ms/step - loss: 0.3114 - accuracy: 0.9071 - val_loss: 0.0980 - val_accuracy: 0.9708\n",
      "Epoch 2/20\n",
      "469/469 [==============================] - 10s 21ms/step - loss: 0.0924 - accuracy: 0.9718 - val_loss: 0.0677 - val_accuracy: 0.9773\n",
      "Epoch 3/20\n",
      "469/469 [==============================] - 8s 17ms/step - loss: 0.0658 - accuracy: 0.9800 - val_loss: 0.0551 - val_accuracy: 0.9829\n",
      "Epoch 4/20\n",
      "469/469 [==============================] - 9s 19ms/step - loss: 0.0514 - accuracy: 0.9849 - val_loss: 0.0492 - val_accuracy: 0.9845\n",
      "Epoch 5/20\n",
      "469/469 [==============================] - 7s 15ms/step - loss: 0.0444 - accuracy: 0.9863 - val_loss: 0.0389 - val_accuracy: 0.9868\n",
      "Epoch 6/20\n",
      "469/469 [==============================] - 9s 20ms/step - loss: 0.0371 - accuracy: 0.9883 - val_loss: 0.0370 - val_accuracy: 0.9873\n",
      "Epoch 7/20\n",
      "469/469 [==============================] - 8s 17ms/step - loss: 0.0332 - accuracy: 0.9898 - val_loss: 0.0360 - val_accuracy: 0.9891\n",
      "Epoch 8/20\n",
      "469/469 [==============================] - 9s 20ms/step - loss: 0.0288 - accuracy: 0.9906 - val_loss: 0.0340 - val_accuracy: 0.9893\n",
      "Epoch 9/20\n",
      "469/469 [==============================] - 8s 18ms/step - loss: 0.0250 - accuracy: 0.9920 - val_loss: 0.0363 - val_accuracy: 0.9873\n",
      "Epoch 10/20\n",
      "469/469 [==============================] - 8s 18ms/step - loss: 0.0227 - accuracy: 0.9926 - val_loss: 0.0393 - val_accuracy: 0.9875\n",
      "Epoch 11/20\n",
      "469/469 [==============================] - 8s 17ms/step - loss: 0.0200 - accuracy: 0.9936 - val_loss: 0.0315 - val_accuracy: 0.9891\n",
      "Epoch 12/20\n",
      "469/469 [==============================] - 9s 19ms/step - loss: 0.0180 - accuracy: 0.9942 - val_loss: 0.0412 - val_accuracy: 0.9869\n",
      "Epoch 13/20\n",
      "469/469 [==============================] - 8s 17ms/step - loss: 0.0151 - accuracy: 0.9950 - val_loss: 0.0442 - val_accuracy: 0.9864\n",
      "Epoch 14/20\n",
      "469/469 [==============================] - 8s 18ms/step - loss: 0.0149 - accuracy: 0.9953 - val_loss: 0.0457 - val_accuracy: 0.9866\n",
      "Epoch 15/20\n",
      "469/469 [==============================] - 8s 16ms/step - loss: 0.0134 - accuracy: 0.9956 - val_loss: 0.0374 - val_accuracy: 0.9887\n",
      "Epoch 16/20\n",
      "469/469 [==============================] - 9s 19ms/step - loss: 0.0111 - accuracy: 0.9963 - val_loss: 0.0341 - val_accuracy: 0.9899\n",
      "Epoch 17/20\n",
      "469/469 [==============================] - 9s 20ms/step - loss: 0.0128 - accuracy: 0.9956 - val_loss: 0.0394 - val_accuracy: 0.9890\n",
      "Epoch 18/20\n",
      "469/469 [==============================] - 8s 17ms/step - loss: 0.0105 - accuracy: 0.9969 - val_loss: 0.0423 - val_accuracy: 0.9884\n",
      "Epoch 19/20\n",
      "469/469 [==============================] - 10s 20ms/step - loss: 0.0092 - accuracy: 0.9969 - val_loss: 0.0515 - val_accuracy: 0.9874\n",
      "Epoch 20/20\n",
      "469/469 [==============================] - 8s 18ms/step - loss: 0.0091 - accuracy: 0.9968 - val_loss: 0.0395 - val_accuracy: 0.9901\n",
      "313/313 [==============================] - 2s 5ms/step - loss: 0.0395 - accuracy: 0.9901\n"
     ]
    },
    {
     "data": {
      "text/plain": [
       "('Test accuracy:', 0.9901000261306763)"
      ]
     },
     "execution_count": 2,
     "metadata": {},
     "output_type": "execute_result"
    }
   ],
   "source": [
    "#importing necessary libralies\n",
    "import keras\n",
    "from keras.datasets import mnist\n",
    "from keras.layers import Conv2D, MaxPooling2D\n",
    "from keras.layers import Dense, Flatten\n",
    "from keras.models import Sequential\n",
    "\n",
    "#Loading the dataset and perform splitting\n",
    "(x_train, y_train),(x_test, y_test) = mnist.load_data()\n",
    "\n",
    "#Performing reshaping operation\n",
    "x_train = x_train.reshape(x_train.shape[0],28,28,1)\n",
    "x_test = x_test.reshape(x_test.shape[0],28,28,1)\n",
    "\n",
    "#Normalization\n",
    "x_train = x_train/255\n",
    "x_test = x_test/255\n",
    "\n",
    "#One Hot Encoding\n",
    "y_train = keras.utils.to_categorical(y_train, 10)\n",
    "y_test = keras.utils.to_categorical(y_test, 10)\n",
    "\n",
    "#Building the Model Architecture\n",
    "model = Sequential()\n",
    "model.add(Conv2D(6,kernel_size=(5,5),activation='relu',input_shape=(28,28,1)))\n",
    "model.add(MaxPooling2D(pool_size=(2,2)))\n",
    "model.add(Conv2D(16, kernel_size=(5,5), activation='relu'))\n",
    "model.add(MaxPooling2D(pool_size=(2,2)))\n",
    "model.add(Flatten())\n",
    "model.add(Dense(120, activation='relu'))\n",
    "model.add(Dense(84, activation='relu'))\n",
    "model.add(Dense(10, activation='softmax'))\n",
    "\n",
    "model.compile(loss=keras.metrics.categorical_crossentropy, optimizer=keras.optimizers.Adam(), metrics=['accuracy'])\n",
    "\n",
    "model.fit(x_train, y_train, batch_size=128, epochs=20, verbose=1, validation_data=(x_test,y_test))\n",
    "\n",
    "score = model.evaluate(x_test, y_test)\n",
    "('Test Loss:', score[0])\n",
    "('Test accuracy:', score[1])"
   ]
  },
  {
   "cell_type": "code",
   "execution_count": null,
   "id": "928ca15a",
   "metadata": {},
   "outputs": [],
   "source": []
  }
 ],
 "metadata": {
  "kernelspec": {
   "display_name": "Python 3",
   "language": "python",
   "name": "python3"
  },
  "language_info": {
   "codemirror_mode": {
    "name": "ipython",
    "version": 3
   },
   "file_extension": ".py",
   "mimetype": "text/x-python",
   "name": "python",
   "nbconvert_exporter": "python",
   "pygments_lexer": "ipython3",
   "version": "3.8.8"
  }
 },
 "nbformat": 4,
 "nbformat_minor": 5
}
