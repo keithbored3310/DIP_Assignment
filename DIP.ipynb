{
 "cells": [
  {
   "cell_type": "markdown",
   "id": "28bc16ab",
   "metadata": {},
   "source": [
    "# CNN Model"
   ]
  },
  {
   "cell_type": "code",
   "execution_count": 1,
   "id": "4bd2530f",
   "metadata": {},
   "outputs": [],
   "source": [
    "# Import the necessary libraries\n",
    "import os\n",
    "import numpy as np\n",
    "from sklearn.model_selection import train_test_split\n",
    "import tensorflow as tf\n",
    "from tensorflow import keras\n",
    "from tensorflow.keras import layers"
   ]
  },
  {
   "cell_type": "code",
   "execution_count": 2,
   "id": "72a0abf7",
   "metadata": {},
   "outputs": [],
   "source": [
    "# Set up the data generators for training and validation\n",
    "train_datagen = keras.preprocessing.image.ImageDataGenerator(\n",
    "    rescale=1./255,\n",
    "    shear_range=0.2,\n",
    "    zoom_range=0.2,\n",
    "    horizontal_flip=True\n",
    ")\n",
    "\n",
    "test_datagen = keras.preprocessing.image.ImageDataGenerator(rescale=1./255)\n",
    "\n",
    "# Load the image data\n",
    "image_dir = './FMD/image/'\n",
    "class_names = os.listdir(image_dir)\n",
    "\n",
    "X = []\n",
    "y = []\n",
    "\n",
    "for i, class_name in enumerate(class_names):\n",
    "    class_dir = os.path.join(image_dir, class_name)\n",
    "    for image_path in os.listdir(class_dir):\n",
    "        image = keras.preprocessing.image.load_img(os.path.join(class_dir, image_path), target_size=(224, 224))\n",
    "        image_array = keras.preprocessing.image.img_to_array(image)\n",
    "        X.append(image_array)\n",
    "        y.append(i)"
   ]
  },
  {
   "cell_type": "code",
   "execution_count": 3,
   "id": "f401884f",
   "metadata": {},
   "outputs": [],
   "source": [
    "# Convert the lists to numpy arrays\n",
    "X = np.array(X)\n",
    "y = np.array(y)"
   ]
  },
  {
   "cell_type": "code",
   "execution_count": 5,
   "id": "ccd3b5b2",
   "metadata": {},
   "outputs": [],
   "source": [
    "# Split the data into training and testing sets\n",
    "X_train, X_test, y_train, y_test = train_test_split(X, y, test_size=0.2, random_state=42)"
   ]
  },
  {
   "cell_type": "code",
   "execution_count": 7,
   "id": "8cc36bd0",
   "metadata": {},
   "outputs": [],
   "source": [
    "# Perform reshaping operation\n",
    "#X_train = X_train.reshape(X_train.shape[0],28,28,1)\n",
    "#X_test = X_test.reshape(X_test.shape[0],28,28,1)"
   ]
  },
  {
   "cell_type": "code",
   "execution_count": 8,
   "id": "5c5e94e7",
   "metadata": {},
   "outputs": [],
   "source": [
    "# Normalization\n",
    "X_train = X_train/255\n",
    "X_test = X_test/255"
   ]
  },
  {
   "cell_type": "code",
   "execution_count": 9,
   "id": "475dbbdd",
   "metadata": {},
   "outputs": [],
   "source": [
    "# One-Hot Encoding\n",
    "y_train = keras.utils.to_categorical(y_train, 10)\n",
    "y_test = keras.utils.to_categorical(y_test, 10)"
   ]
  },
  {
   "cell_type": "code",
   "execution_count": 10,
   "id": "b4b89636",
   "metadata": {},
   "outputs": [],
   "source": [
    "# Define the CNN model architecture\n",
    "model = keras.Sequential([\n",
    "    layers.Conv2D(32, (3, 3), activation='relu', input_shape=(224, 224, 3)),\n",
    "    layers.MaxPooling2D((2, 2)),\n",
    "    layers.Conv2D(64, (3, 3), activation='relu'),\n",
    "    layers.MaxPooling2D((2, 2)),\n",
    "    layers.Conv2D(128, (3, 3), activation='relu'),\n",
    "    layers.MaxPooling2D((2, 2)),\n",
    "    layers.Flatten(),\n",
    "    layers.Dense(128, activation='relu'),\n",
    "    layers.Dense(10, activation='softmax')\n",
    "])"
   ]
  },
  {
   "cell_type": "code",
   "execution_count": 11,
   "id": "67df9346",
   "metadata": {},
   "outputs": [],
   "source": [
    "# Compile the model\n",
    "model.compile(\n",
    "    optimizer='adam',\n",
    "    loss='categorical_crossentropy',\n",
    "    metrics=['accuracy']\n",
    ")"
   ]
  },
  {
   "cell_type": "code",
   "execution_count": 12,
   "id": "feed742c",
   "metadata": {},
   "outputs": [
    {
     "name": "stdout",
     "output_type": "stream",
     "text": [
      "Epoch 1/20\n",
      "7/7 [==============================] - 28s 4s/step - loss: 4.0389 - accuracy: 0.1000 - val_loss: 2.2648 - val_accuracy: 0.1500\n",
      "Epoch 2/20\n",
      "7/7 [==============================] - 29s 4s/step - loss: 2.2342 - accuracy: 0.1713 - val_loss: 2.3522 - val_accuracy: 0.1150\n",
      "Epoch 3/20\n",
      "7/7 [==============================] - 28s 4s/step - loss: 2.2011 - accuracy: 0.2025 - val_loss: 2.1639 - val_accuracy: 0.1450\n",
      "Epoch 4/20\n",
      "7/7 [==============================] - 28s 4s/step - loss: 2.1108 - accuracy: 0.2150 - val_loss: 2.0752 - val_accuracy: 0.2750\n",
      "Epoch 5/20\n",
      "7/7 [==============================] - 28s 4s/step - loss: 2.0617 - accuracy: 0.2788 - val_loss: 2.0648 - val_accuracy: 0.2700\n",
      "Epoch 6/20\n",
      "7/7 [==============================] - 28s 4s/step - loss: 2.0111 - accuracy: 0.2912 - val_loss: 2.1206 - val_accuracy: 0.1900\n",
      "Epoch 7/20\n",
      "7/7 [==============================] - 28s 4s/step - loss: 1.9921 - accuracy: 0.2775 - val_loss: 2.0109 - val_accuracy: 0.2900\n",
      "Epoch 8/20\n",
      "7/7 [==============================] - 28s 4s/step - loss: 1.8916 - accuracy: 0.3175 - val_loss: 1.9736 - val_accuracy: 0.3000\n",
      "Epoch 9/20\n",
      "7/7 [==============================] - 28s 4s/step - loss: 1.7352 - accuracy: 0.4062 - val_loss: 2.0475 - val_accuracy: 0.2750\n",
      "Epoch 10/20\n",
      "7/7 [==============================] - 28s 4s/step - loss: 1.5496 - accuracy: 0.4688 - val_loss: 2.1464 - val_accuracy: 0.2800\n",
      "Epoch 11/20\n",
      "7/7 [==============================] - 29s 4s/step - loss: 1.3700 - accuracy: 0.5437 - val_loss: 2.1716 - val_accuracy: 0.3100\n",
      "Epoch 12/20\n",
      "7/7 [==============================] - 30s 4s/step - loss: 1.1819 - accuracy: 0.5850 - val_loss: 2.5350 - val_accuracy: 0.2600\n",
      "Epoch 13/20\n",
      "7/7 [==============================] - 31s 4s/step - loss: 0.9222 - accuracy: 0.7163 - val_loss: 2.8364 - val_accuracy: 0.2750\n",
      "Epoch 14/20\n",
      "7/7 [==============================] - 28s 4s/step - loss: 0.7457 - accuracy: 0.7563 - val_loss: 2.9378 - val_accuracy: 0.2800\n",
      "Epoch 15/20\n",
      "7/7 [==============================] - 28s 4s/step - loss: 0.6572 - accuracy: 0.7937 - val_loss: 3.6570 - val_accuracy: 0.2100\n",
      "Epoch 16/20\n",
      "7/7 [==============================] - 29s 4s/step - loss: 0.5062 - accuracy: 0.8537 - val_loss: 3.9977 - val_accuracy: 0.2650\n",
      "Epoch 17/20\n",
      "7/7 [==============================] - 28s 4s/step - loss: 0.4211 - accuracy: 0.8750 - val_loss: 4.2170 - val_accuracy: 0.2500\n",
      "Epoch 18/20\n",
      "7/7 [==============================] - 28s 4s/step - loss: 0.2801 - accuracy: 0.9275 - val_loss: 5.0788 - val_accuracy: 0.2550\n",
      "Epoch 19/20\n",
      "7/7 [==============================] - 28s 4s/step - loss: 0.2162 - accuracy: 0.9400 - val_loss: 4.7891 - val_accuracy: 0.2700\n",
      "Epoch 20/20\n",
      "7/7 [==============================] - 28s 4s/step - loss: 0.1320 - accuracy: 0.9737 - val_loss: 6.3029 - val_accuracy: 0.2300\n"
     ]
    }
   ],
   "source": [
    "# Train the model\n",
    "history = model.fit(\n",
    "    X_train, y_train,\n",
    "    epochs=20,\n",
    "    batch_size=128,\n",
    "    verbose=1,\n",
    "    validation_data=(X_test, y_test)\n",
    ")"
   ]
  },
  {
   "cell_type": "code",
   "execution_count": 14,
   "id": "2bd140c3",
   "metadata": {},
   "outputs": [
    {
     "name": "stdout",
     "output_type": "stream",
     "text": [
      "7/7 - 2s - loss: 6.3029 - accuracy: 0.2300 - 2s/epoch - 234ms/step\n"
     ]
    },
    {
     "data": {
      "text/plain": [
       "('Test accuracy:', 0.23000000417232513)"
      ]
     },
     "execution_count": 14,
     "metadata": {},
     "output_type": "execute_result"
    }
   ],
   "source": [
    "# Evaluate the model on the testing set\n",
    "score = model.evaluate(X_test, y_test, verbose=2)\n",
    "('Test Loss:', score[0])\n",
    "('Test accuracy:', score[1])"
   ]
  },
  {
   "cell_type": "markdown",
   "id": "ee7bbc3f",
   "metadata": {},
   "source": [
    "# LeNet 5 Model"
   ]
  },
  {
   "cell_type": "code",
   "execution_count": 15,
   "id": "aa2b13af",
   "metadata": {},
   "outputs": [
    {
     "name": "stdout",
     "output_type": "stream",
     "text": [
      "Epoch 1/20\n",
      "7/7 [==============================] - 13s 2s/step - loss: 3.2399 - accuracy: 0.1238 - val_loss: 2.3980 - val_accuracy: 0.0900\n",
      "Epoch 2/20\n",
      "7/7 [==============================] - 11s 2s/step - loss: 2.2954 - accuracy: 0.1150 - val_loss: 2.2691 - val_accuracy: 0.1500\n",
      "Epoch 3/20\n",
      "7/7 [==============================] - 12s 2s/step - loss: 2.2219 - accuracy: 0.2188 - val_loss: 2.2679 - val_accuracy: 0.1900\n",
      "Epoch 4/20\n",
      "7/7 [==============================] - 12s 2s/step - loss: 2.1529 - accuracy: 0.2925 - val_loss: 2.2614 - val_accuracy: 0.1350\n",
      "Epoch 5/20\n",
      "7/7 [==============================] - 13s 2s/step - loss: 2.0453 - accuracy: 0.2862 - val_loss: 2.1993 - val_accuracy: 0.2100\n",
      "Epoch 6/20\n",
      "7/7 [==============================] - 15s 2s/step - loss: 1.8794 - accuracy: 0.4038 - val_loss: 2.1601 - val_accuracy: 0.2200\n",
      "Epoch 7/20\n",
      "7/7 [==============================] - 14s 2s/step - loss: 1.6838 - accuracy: 0.5013 - val_loss: 2.1638 - val_accuracy: 0.2500\n",
      "Epoch 8/20\n",
      "7/7 [==============================] - 18s 3s/step - loss: 1.4678 - accuracy: 0.5663 - val_loss: 2.2430 - val_accuracy: 0.2350\n",
      "Epoch 9/20\n",
      "7/7 [==============================] - 16s 2s/step - loss: 1.1921 - accuracy: 0.6625 - val_loss: 2.5076 - val_accuracy: 0.2400\n",
      "Epoch 10/20\n",
      "7/7 [==============================] - 14s 2s/step - loss: 0.9564 - accuracy: 0.7250 - val_loss: 2.4040 - val_accuracy: 0.2350\n",
      "Epoch 11/20\n",
      "7/7 [==============================] - 14s 2s/step - loss: 0.7155 - accuracy: 0.8000 - val_loss: 2.8339 - val_accuracy: 0.2200\n",
      "Epoch 12/20\n",
      "7/7 [==============================] - 13s 2s/step - loss: 0.5117 - accuracy: 0.8875 - val_loss: 2.9213 - val_accuracy: 0.2200\n",
      "Epoch 13/20\n",
      "7/7 [==============================] - 14s 2s/step - loss: 0.3549 - accuracy: 0.9200 - val_loss: 3.1519 - val_accuracy: 0.2550\n",
      "Epoch 14/20\n",
      "7/7 [==============================] - 16s 2s/step - loss: 0.2354 - accuracy: 0.9638 - val_loss: 3.2971 - val_accuracy: 0.2400\n",
      "Epoch 15/20\n",
      "7/7 [==============================] - 13s 2s/step - loss: 0.1475 - accuracy: 0.9825 - val_loss: 3.3908 - val_accuracy: 0.2400\n",
      "Epoch 16/20\n",
      "7/7 [==============================] - 13s 2s/step - loss: 0.0822 - accuracy: 0.9912 - val_loss: 3.8876 - val_accuracy: 0.2600\n",
      "Epoch 17/20\n",
      "7/7 [==============================] - 13s 2s/step - loss: 0.0598 - accuracy: 0.9950 - val_loss: 3.7190 - val_accuracy: 0.2700\n",
      "Epoch 18/20\n",
      "7/7 [==============================] - 13s 2s/step - loss: 0.0415 - accuracy: 0.9975 - val_loss: 3.7809 - val_accuracy: 0.2350\n",
      "Epoch 19/20\n",
      "7/7 [==============================] - 13s 2s/step - loss: 0.0294 - accuracy: 0.9975 - val_loss: 4.1696 - val_accuracy: 0.2650\n",
      "Epoch 20/20\n",
      "7/7 [==============================] - 13s 2s/step - loss: 0.0182 - accuracy: 1.0000 - val_loss: 4.1082 - val_accuracy: 0.2750\n",
      "7/7 - 1s - loss: 4.1082 - accuracy: 0.2750 - 1s/epoch - 171ms/step\n"
     ]
    },
    {
     "data": {
      "text/plain": [
       "('Test accuracy:', 0.2750000059604645)"
      ]
     },
     "execution_count": 15,
     "metadata": {},
     "output_type": "execute_result"
    }
   ],
   "source": [
    "# Define the LeNet 5 model architecture\n",
    "model = keras.Sequential([\n",
    "    layers.Conv2D(6,kernel_size=(5,5),activation='relu',input_shape=(224,224,3)),\n",
    "    layers.MaxPooling2D(pool_size=(2,2)),\n",
    "    layers.Conv2D(16, kernel_size=(5,5), activation='relu'),\n",
    "    layers.MaxPooling2D(pool_size=(2,2)),\n",
    "    layers.Flatten(),\n",
    "    layers.Dense(120, activation='relu'),\n",
    "    layers.Dense(84, activation='relu'),\n",
    "    layers.Dense(10, activation='softmax')\n",
    "])\n",
    "\n",
    "# Compile the model\n",
    "model.compile(\n",
    "    optimizer='adam',\n",
    "    loss='categorical_crossentropy',\n",
    "    metrics=['accuracy']\n",
    ")\n",
    "\n",
    "# Train the model\n",
    "history = model.fit(\n",
    "    X_train, y_train,\n",
    "    epochs=20,\n",
    "    batch_size=128,\n",
    "    verbose=1,\n",
    "    validation_data=(X_test, y_test)\n",
    ")\n",
    "\n",
    "# Evaluate the model on the testing set\n",
    "score = model.evaluate(X_test, y_test, verbose=2)\n",
    "('Test Loss:', score[0])\n",
    "('Test accuracy:', score[1])"
   ]
  }
 ],
 "metadata": {
  "kernelspec": {
   "display_name": "Python 3",
   "language": "python",
   "name": "python3"
  },
  "language_info": {
   "codemirror_mode": {
    "name": "ipython",
    "version": 3
   },
   "file_extension": ".py",
   "mimetype": "text/x-python",
   "name": "python",
   "nbconvert_exporter": "python",
   "pygments_lexer": "ipython3",
   "version": "3.8.8"
  }
 },
 "nbformat": 4,
 "nbformat_minor": 5
}
