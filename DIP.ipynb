{
 "cells": [
  {
   "cell_type": "markdown",
   "id": "28bc16ab",
   "metadata": {},
   "source": [
    "# CNN Model"
   ]
  },
  {
   "cell_type": "code",
   "execution_count": 1,
   "id": "4bd2530f",
   "metadata": {},
   "outputs": [],
   "source": [
    "# Import the necessary libraries\n",
    "import os\n",
    "import numpy as np\n",
    "from sklearn.model_selection import train_test_split\n",
    "import tensorflow as tf\n",
    "from tensorflow import keras\n",
    "from tensorflow.keras import layers"
   ]
  },
  {
   "cell_type": "code",
   "execution_count": 2,
   "id": "72a0abf7",
   "metadata": {},
   "outputs": [],
   "source": [
    "# Set up the data generators for training and validation\n",
    "train_datagen = keras.preprocessing.image.ImageDataGenerator(\n",
    "    rescale = 1./255,\n",
    "    shear_range = 0.2,\n",
    "    zoom_range = 0.2,\n",
    "    horizontal_flip = True\n",
    ")\n",
    "\n",
    "test_datagen = keras.preprocessing.image.ImageDataGenerator(rescale=1./255)\n",
    "\n",
    "# Load the image data\n",
    "image_dir = './FMD/image/'\n",
    "class_names = os.listdir(image_dir)\n",
    "\n",
    "X = []\n",
    "y = []\n",
    "\n",
    "for i, class_name in enumerate(class_names):\n",
    "    class_dir = os.path.join(image_dir, class_name)\n",
    "    for image_path in os.listdir(class_dir):\n",
    "        image = keras.preprocessing.image.load_img(os.path.join(class_dir, image_path), target_size=(224, 224))\n",
    "        image_array = keras.preprocessing.image.img_to_array(image)\n",
    "        X.append(image_array)\n",
    "        y.append(i)"
   ]
  },
  {
   "cell_type": "code",
   "execution_count": 3,
   "id": "f401884f",
   "metadata": {},
   "outputs": [],
   "source": [
    "# Convert the lists to numpy arrays\n",
    "X = np.array(X)\n",
    "y = np.array(y)"
   ]
  },
  {
   "cell_type": "code",
   "execution_count": 13,
   "id": "eb955d12",
   "metadata": {},
   "outputs": [
    {
     "name": "stdout",
     "output_type": "stream",
     "text": [
      "Total number of images: 1000\n",
      "Image size: (224, 224, 3)\n",
      "Image type: <class 'numpy.float32'>\n"
     ]
    }
   ],
   "source": [
    "# Count the total number of images \n",
    "total_images = len(X)\n",
    "print(\"Total number of images:\", total_images)\n",
    "\n",
    "# Determine the image size and type\n",
    "image_size = X[0].shape\n",
    "image_type = type(X[1][0][0][0])\n",
    "print(\"Image size:\", image_size)\n",
    "print(\"Image type:\", image_type)"
   ]
  },
  {
   "cell_type": "code",
   "execution_count": 5,
   "id": "d85de32a",
   "metadata": {},
   "outputs": [
    {
     "name": "stdout",
     "output_type": "stream",
     "text": [
      "X shape: (1000, 224, 224, 3)\n",
      "y shape: (1000,)\n",
      "Number of classes: 10\n",
      "Class counts: [100 100 100 100 100 100 100 100 100 100]\n",
      "Class percentages: [10. 10. 10. 10. 10. 10. 10. 10. 10. 10.]\n"
     ]
    }
   ],
   "source": [
    "# Check the shape of the data\n",
    "print(\"X shape:\", X.shape)\n",
    "print(\"y shape:\", y.shape)\n",
    "\n",
    "# Check the number of classes\n",
    "num_classes = len(class_names)\n",
    "print(\"Number of classes:\", num_classes)\n",
    "\n",
    "# Check the distribution of classes\n",
    "class_counts = np.bincount(y)\n",
    "print(\"Class counts:\", class_counts)\n",
    "\n",
    "# Check the class distribution as percentages\n",
    "class_percentages = class_counts / len(y) * 100\n",
    "print(\"Class percentages:\", class_percentages)"
   ]
  },
  {
   "cell_type": "code",
   "execution_count": 6,
   "id": "ccd3b5b2",
   "metadata": {},
   "outputs": [],
   "source": [
    "# Split the data into training and testing sets\n",
    "X_train, X_test, y_train, y_test = train_test_split(X, y, test_size=0.2, random_state=42)"
   ]
  },
  {
   "cell_type": "code",
   "execution_count": 8,
   "id": "475dbbdd",
   "metadata": {},
   "outputs": [],
   "source": [
    "# Perform one-hot encoding on the labels\n",
    "y_train = keras.utils.to_categorical(y_train, num_classes)\n",
    "y_test = keras.utils.to_categorical(y_test, num_classes)"
   ]
  },
  {
   "cell_type": "code",
   "execution_count": 9,
   "id": "b4b89636",
   "metadata": {},
   "outputs": [],
   "source": [
    "# Define the CNN model architecture\n",
    "model = keras.Sequential([\n",
    "    layers.Conv2D(32, (3, 3), activation='relu', input_shape=(224, 224, 3)),\n",
    "    layers.MaxPooling2D((2, 2)),\n",
    "    layers.Conv2D(64, (3, 3), activation='relu'),\n",
    "    layers.MaxPooling2D((2, 2)),\n",
    "    layers.Conv2D(128, (3, 3), activation='relu'),\n",
    "    layers.MaxPooling2D((2, 2)),\n",
    "    layers.Flatten(),\n",
    "    layers.Dense(128, activation='relu'),\n",
    "    layers.Dense(10, activation='softmax')\n",
    "])"
   ]
  },
  {
   "cell_type": "code",
   "execution_count": 10,
   "id": "c057d061",
   "metadata": {},
   "outputs": [],
   "source": [
    "# Compile the model\n",
    "model.compile(\n",
    "    optimizer='adam',\n",
    "    loss='categorical_crossentropy',\n",
    "    metrics=['accuracy']\n",
    ")"
   ]
  },
  {
   "cell_type": "code",
   "execution_count": 11,
   "id": "feed742c",
   "metadata": {},
   "outputs": [
    {
     "name": "stdout",
     "output_type": "stream",
     "text": [
      "Epoch 1/20\n",
      "7/7 [==============================] - 28s 4s/step - loss: 551.9333 - accuracy: 0.0862 - val_loss: 18.0202 - val_accuracy: 0.0750\n",
      "Epoch 2/20\n",
      "7/7 [==============================] - 29s 4s/step - loss: 5.0717 - accuracy: 0.1500 - val_loss: 2.2647 - val_accuracy: 0.1500\n",
      "Epoch 3/20\n",
      "7/7 [==============================] - 27s 4s/step - loss: 1.9947 - accuracy: 0.3762 - val_loss: 2.4851 - val_accuracy: 0.1800\n",
      "Epoch 4/20\n",
      "7/7 [==============================] - 26s 4s/step - loss: 1.5846 - accuracy: 0.5188 - val_loss: 2.7157 - val_accuracy: 0.1400\n",
      "Epoch 5/20\n",
      "7/7 [==============================] - 26s 4s/step - loss: 1.0675 - accuracy: 0.6925 - val_loss: 2.9689 - val_accuracy: 0.1600\n",
      "Epoch 6/20\n",
      "7/7 [==============================] - 28s 4s/step - loss: 0.5357 - accuracy: 0.8537 - val_loss: 4.1727 - val_accuracy: 0.1350\n",
      "Epoch 7/20\n",
      "7/7 [==============================] - 28s 4s/step - loss: 0.3748 - accuracy: 0.8850 - val_loss: 5.5694 - val_accuracy: 0.2100\n",
      "Epoch 8/20\n",
      "7/7 [==============================] - 28s 4s/step - loss: 0.2318 - accuracy: 0.9475 - val_loss: 5.4427 - val_accuracy: 0.1200\n",
      "Epoch 9/20\n",
      "7/7 [==============================] - 29s 4s/step - loss: 0.1289 - accuracy: 0.9762 - val_loss: 5.8466 - val_accuracy: 0.1600\n",
      "Epoch 10/20\n",
      "7/7 [==============================] - 29s 4s/step - loss: 0.0706 - accuracy: 0.9837 - val_loss: 5.9677 - val_accuracy: 0.1400\n",
      "Epoch 11/20\n",
      "7/7 [==============================] - 29s 4s/step - loss: 0.0518 - accuracy: 0.9900 - val_loss: 6.1260 - val_accuracy: 0.1650\n",
      "Epoch 12/20\n",
      "7/7 [==============================] - 29s 4s/step - loss: 0.1562 - accuracy: 0.9550 - val_loss: 5.8337 - val_accuracy: 0.1250\n",
      "Epoch 13/20\n",
      "7/7 [==============================] - 29s 4s/step - loss: 0.1192 - accuracy: 0.9737 - val_loss: 5.9810 - val_accuracy: 0.1300\n",
      "Epoch 14/20\n",
      "7/7 [==============================] - 28s 4s/step - loss: 0.0579 - accuracy: 0.9900 - val_loss: 6.8652 - val_accuracy: 0.1650\n",
      "Epoch 15/20\n",
      "7/7 [==============================] - 28s 4s/step - loss: 0.0346 - accuracy: 0.9962 - val_loss: 6.7161 - val_accuracy: 0.1600\n",
      "Epoch 16/20\n",
      "7/7 [==============================] - 28s 4s/step - loss: 0.0402 - accuracy: 0.9925 - val_loss: 7.6959 - val_accuracy: 0.1300\n",
      "Epoch 17/20\n",
      "7/7 [==============================] - 29s 4s/step - loss: 0.0238 - accuracy: 0.9925 - val_loss: 7.4375 - val_accuracy: 0.1500\n",
      "Epoch 18/20\n",
      "7/7 [==============================] - 29s 4s/step - loss: 0.0237 - accuracy: 0.9950 - val_loss: 7.6008 - val_accuracy: 0.1250\n",
      "Epoch 19/20\n",
      "7/7 [==============================] - 29s 4s/step - loss: 0.2991 - accuracy: 0.9563 - val_loss: 7.9083 - val_accuracy: 0.1550\n",
      "Epoch 20/20\n",
      "7/7 [==============================] - 28s 4s/step - loss: 0.4456 - accuracy: 0.8963 - val_loss: 5.0957 - val_accuracy: 0.1000\n"
     ]
    }
   ],
   "source": [
    "# Train the model\n",
    "history = model.fit(\n",
    "    X_train, y_train,\n",
    "    epochs=20,\n",
    "    batch_size=128,\n",
    "    verbose=1,\n",
    "    validation_data=(X_test, y_test)\n",
    ")"
   ]
  },
  {
   "cell_type": "code",
   "execution_count": 12,
   "id": "2bd140c3",
   "metadata": {},
   "outputs": [
    {
     "name": "stdout",
     "output_type": "stream",
     "text": [
      "7/7 - 2s - loss: 5.0957 - accuracy: 0.1000 - 2s/epoch - 292ms/step\n"
     ]
    },
    {
     "data": {
      "text/plain": [
       "('Test accuracy:', 0.10000000149011612)"
      ]
     },
     "execution_count": 12,
     "metadata": {},
     "output_type": "execute_result"
    }
   ],
   "source": [
    "# Evaluate the model on the testing set\n",
    "score = model.evaluate(X_test, y_test, verbose=2)\n",
    "('Test Loss:', score[0])\n",
    "('Test accuracy:', score[1])"
   ]
  },
  {
   "cell_type": "markdown",
   "id": "ab933783",
   "metadata": {},
   "source": [
    "# LeNet 5 Model"
   ]
  },
  {
   "cell_type": "code",
   "execution_count": null,
   "id": "fad48034",
   "metadata": {},
   "outputs": [],
   "source": [
    "# Define the LeNet 5 model architecture\n",
    "model = keras.Sequential([\n",
    "    layers.Conv2D(6,kernel_size=(5,5),activation='relu',input_shape=(224,224,3)),\n",
    "    layers.MaxPooling2D(pool_size=(2,2)),\n",
    "    layers.Conv2D(16, kernel_size=(5,5), activation='relu'),\n",
    "    layers.MaxPooling2D(pool_size=(2,2)),\n",
    "    layers.Flatten(),\n",
    "    layers.Dense(120, activation='relu'),\n",
    "    layers.Dense(84, activation='relu'),\n",
    "    layers.Dense(10, activation='softmax')\n",
    "])\n",
    "\n",
    "# Compile the model\n",
    "model.compile(\n",
    "    optimizer='adam',\n",
    "    loss='categorical_crossentropy',\n",
    "    metrics=['accuracy']\n",
    ")\n",
    "\n",
    "# Train the model\n",
    "history = model.fit(\n",
    "    X_train, y_train,\n",
    "    epochs=20,\n",
    "    batch_size=128,\n",
    "    verbose=1,\n",
    "    validation_data=(X_test, y_test)\n",
    ")\n",
    "\n",
    "# Evaluate the model on the testing set\n",
    "score = model.evaluate(X_test, y_test, verbose=2)\n",
    "('Test Loss:', score[0])\n",
    "('Test accuracy:', score[1])"
   ]
  }
 ],
 "metadata": {
  "kernelspec": {
   "display_name": "Python 3",
   "language": "python",
   "name": "python3"
  },
  "language_info": {
   "codemirror_mode": {
    "name": "ipython",
    "version": 3
   },
   "file_extension": ".py",
   "mimetype": "text/x-python",
   "name": "python",
   "nbconvert_exporter": "python",
   "pygments_lexer": "ipython3",
   "version": "3.8.8"
  }
 },
 "nbformat": 4,
 "nbformat_minor": 5
}
