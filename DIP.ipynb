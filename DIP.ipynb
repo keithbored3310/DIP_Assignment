{
 "cells": [
  {
   "cell_type": "markdown",
   "id": "d603f5d5",
   "metadata": {},
   "source": [
    "# LeNet 5 Model Architecture"
   ]
  },
  {
   "cell_type": "code",
   "execution_count": null,
   "id": "82acc26e",
   "metadata": {},
   "outputs": [],
   "source": [
    "#importing necessary libralies\n",
    "import keras\n",
    "from keras.datasets import mnist\n",
    "from keras.layers import Conv2D, MaxPooling2D\n",
    "from keras.layers import Dense, Flatten\n",
    "from keras.models import Sequential\n",
    "\n",
    "#Loading the dataset and perform splitting\n",
    "(x_train, y_train),(x_test, y_test) = mnist.load_data()\n",
    "\n",
    "#Performing reshaping operation\n",
    "x_train = x_train.reshape(x_train.shape[0],28,28,1)\n",
    "x_test = x_test.reshape(x_test.shape[0],28,28,1)\n",
    "\n",
    "#Normalization\n",
    "x_train = x_train/255\n",
    "x_test = x_test/255\n",
    "\n",
    "#One Hot Encoding\n",
    "y_train = keras.utils.to_categorical(y_train, 10)\n",
    "y_test = keras.utils.to_categorical(y_test, 10)\n",
    "\n",
    "#Building the Model Architecture\n",
    "model = Sequential()\n",
    "model.add(Conv2D(6,kernel_size=(5,5),activation='relu',input_shape=(28,28,1)))\n",
    "model.add(MaxPooling2D(pool_size=(2,2)))\n",
    "model.add(Conv2D(16, kernel_size=(5,5), activation='relu'))\n",
    "model.add(MaxPooling2D(pool_size=(2,2)))\n",
    "model.add(Flatten())\n",
    "model.add(Dense(120, activation='relu'))\n",
    "model.add(Dense(84, activation='relu'))\n",
    "model.add(Dense(10, activation='softmax'))\n",
    "\n",
    "model.compile(loss=keras.metrics.categorical_crossentropy, optimizer=keras.optimizers.Adam(), metrics=['accuracy'])\n",
    "\n",
    "model.fit(x_train, y_train, batch_size=128, epochs=20, verbose=1, validation_data=(x_test,y_test))\n",
    "\n",
    "score = model.evaluate(x_test, y_test)\n",
    "('Test Loss:', score[0])\n",
    "('Test accuracy:', score[1])"
   ]
  },
  {
   "cell_type": "markdown",
   "id": "28bc16ab",
   "metadata": {},
   "source": [
    "# CNN Model"
   ]
  },
  {
   "cell_type": "code",
   "execution_count": 1,
   "id": "4bd2530f",
   "metadata": {},
   "outputs": [],
   "source": [
    "# Import the necessary libraries\n",
    "import os\n",
    "import numpy as np\n",
    "from sklearn.model_selection import train_test_split\n",
    "import tensorflow as tf\n",
    "from tensorflow import keras\n",
    "from tensorflow.keras import layers\n",
    "from keras.utils import to_categorical"
   ]
  },
  {
   "cell_type": "code",
   "execution_count": 2,
   "id": "72a0abf7",
   "metadata": {},
   "outputs": [],
   "source": [
    "# Set up the data generators for training and validation\n",
    "train_datagen = keras.preprocessing.image.ImageDataGenerator(\n",
    "    rescale=1./255,\n",
    "    shear_range=0.2,\n",
    "    zoom_range=0.2,\n",
    "    horizontal_flip=True\n",
    ")\n",
    "\n",
    "test_datagen = keras.preprocessing.image.ImageDataGenerator(rescale=1./255)\n",
    "\n",
    "# Load the image data\n",
    "image_dir = './FMD/image/'\n",
    "class_names = os.listdir(image_dir)\n",
    "\n",
    "X = []\n",
    "y = []\n",
    "\n",
    "for i, class_name in enumerate(class_names):\n",
    "    class_dir = os.path.join(image_dir, class_name)\n",
    "    for image_path in os.listdir(class_dir):\n",
    "        image = keras.preprocessing.image.load_img(os.path.join(class_dir, image_path), target_size=(224, 224))\n",
    "        image_array = keras.preprocessing.image.img_to_array(image)\n",
    "        X.append(image_array)\n",
    "        y.append(i)"
   ]
  },
  {
   "cell_type": "code",
   "execution_count": 3,
   "id": "f401884f",
   "metadata": {},
   "outputs": [],
   "source": [
    "# Convert the lists to numpy arrays\n",
    "X = np.array(X)\n",
    "y = np.array(y)"
   ]
  },
  {
   "cell_type": "code",
   "execution_count": 4,
   "id": "ccd3b5b2",
   "metadata": {},
   "outputs": [],
   "source": [
    "# Split the data into training and testing sets\n",
    "X_train, X_test, y_train, y_test = train_test_split(X, y, test_size=0.2, random_state=42)"
   ]
  },
  {
   "cell_type": "code",
   "execution_count": 5,
   "id": "475dbbdd",
   "metadata": {},
   "outputs": [],
   "source": [
    "# Convert labels to one-hot encoded format\n",
    "y_train = to_categorical(y_train)\n",
    "y_test = to_categorical(y_test)"
   ]
  },
  {
   "cell_type": "code",
   "execution_count": null,
   "id": "b4b89636",
   "metadata": {},
   "outputs": [],
   "source": [
    "# Define the CNN model architecture\n",
    "model = keras.Sequential([\n",
    "    layers.Conv2D(32, (3, 3), activation='relu', input_shape=(224, 224, 3)),\n",
    "    layers.MaxPooling2D((2, 2)),\n",
    "    layers.Conv2D(64, (3, 3), activation='relu'),\n",
    "    layers.MaxPooling2D((2, 2)),\n",
    "    layers.Conv2D(128, (3, 3), activation='relu'),\n",
    "    layers.MaxPooling2D((2, 2)),\n",
    "    layers.Flatten(),\n",
    "    layers.Dense(128, activation='relu'),\n",
    "    layers.Dense(10, activation='softmax')\n",
    "])\n",
    "\n",
    "# Compile the model\n",
    "model.compile(\n",
    "    optimizer='adam',\n",
    "    loss='categorical_crossentropy',\n",
    "    metrics=['accuracy']\n",
    ")"
   ]
  },
  {
   "cell_type": "code",
   "execution_count": 10,
   "id": "1c19fdd5",
   "metadata": {},
   "outputs": [],
   "source": [
    "# Define the LeNet model architecture\n",
    "model = keras.Sequential()\n",
    "model.add(Conv2D(6,kernel_size=(5,5),activation='relu',input_shape=(224,224,3)))\n",
    "model.add(MaxPooling2D(pool_size=(2,2)))\n",
    "model.add(Conv2D(16, kernel_size=(5,5), activation='relu'))\n",
    "model.add(MaxPooling2D(pool_size=(2,2)))\n",
    "model.add(Flatten())\n",
    "model.add(Dense(120, activation='relu'))\n",
    "model.add(Dense(84, activation='relu'))\n",
    "model.add(Dense(10, activation='softmax'))\n",
    "\n",
    "model.compile(loss=keras.metrics.categorical_crossentropy, optimizer=keras.optimizers.Adam(), metrics=['accuracy'])"
   ]
  },
  {
   "cell_type": "code",
   "execution_count": 11,
   "id": "feed742c",
   "metadata": {},
   "outputs": [
    {
     "name": "stdout",
     "output_type": "stream",
     "text": [
      "Epoch 1/10\n",
      "25/25 [==============================] - 13s 486ms/step - loss: 48.4801 - accuracy: 0.1112 - val_loss: 2.3473 - val_accuracy: 0.1300\n",
      "Epoch 2/10\n",
      "25/25 [==============================] - 12s 492ms/step - loss: 2.1075 - accuracy: 0.2725 - val_loss: 2.3666 - val_accuracy: 0.0850\n",
      "Epoch 3/10\n",
      "25/25 [==============================] - 13s 510ms/step - loss: 1.4068 - accuracy: 0.5813 - val_loss: 2.6981 - val_accuracy: 0.1150\n",
      "Epoch 4/10\n",
      "25/25 [==============================] - 13s 523ms/step - loss: 0.7124 - accuracy: 0.8225 - val_loss: 4.1149 - val_accuracy: 0.1150\n",
      "Epoch 5/10\n",
      "25/25 [==============================] - 13s 519ms/step - loss: 0.2993 - accuracy: 0.9312 - val_loss: 5.1082 - val_accuracy: 0.0900\n",
      "Epoch 6/10\n",
      "25/25 [==============================] - 13s 520ms/step - loss: 0.1411 - accuracy: 0.9675 - val_loss: 4.8193 - val_accuracy: 0.0950\n",
      "Epoch 7/10\n",
      "25/25 [==============================] - 13s 522ms/step - loss: 0.0667 - accuracy: 0.9862 - val_loss: 5.6194 - val_accuracy: 0.1250\n",
      "Epoch 8/10\n",
      "25/25 [==============================] - 13s 519ms/step - loss: 0.0549 - accuracy: 0.9912 - val_loss: 5.2407 - val_accuracy: 0.0850\n",
      "Epoch 9/10\n",
      "25/25 [==============================] - 13s 520ms/step - loss: 0.0448 - accuracy: 0.9925 - val_loss: 6.9452 - val_accuracy: 0.0900\n",
      "Epoch 10/10\n",
      "25/25 [==============================] - 13s 520ms/step - loss: 0.0426 - accuracy: 0.9912 - val_loss: 5.4763 - val_accuracy: 0.1000\n"
     ]
    }
   ],
   "source": [
    "# Train the model\n",
    "history = model.fit(\n",
    "    X_train, y_train,\n",
    "    epochs=10,\n",
    "    batch_size=32,\n",
    "    validation_data=(X_test, y_test)\n",
    ")"
   ]
  },
  {
   "cell_type": "code",
   "execution_count": 12,
   "id": "2bd140c3",
   "metadata": {},
   "outputs": [
    {
     "name": "stdout",
     "output_type": "stream",
     "text": [
      "7/7 - 1s - loss: 5.4763 - accuracy: 0.1000 - 749ms/epoch - 107ms/step\n",
      "Test accuracy: 0.10000000149011612\n"
     ]
    }
   ],
   "source": [
    "# Evaluate the model on the testing set\n",
    "test_loss, test_acc = model.evaluate(X_test, y_test, verbose=2)\n",
    "print('Test accuracy:', test_acc)"
   ]
  }
 ],
 "metadata": {
  "kernelspec": {
   "display_name": "Python 3",
   "language": "python",
   "name": "python3"
  },
  "language_info": {
   "codemirror_mode": {
    "name": "ipython",
    "version": 3
   },
   "file_extension": ".py",
   "mimetype": "text/x-python",
   "name": "python",
   "nbconvert_exporter": "python",
   "pygments_lexer": "ipython3",
   "version": "3.8.8"
  }
 },
 "nbformat": 4,
 "nbformat_minor": 5
}
